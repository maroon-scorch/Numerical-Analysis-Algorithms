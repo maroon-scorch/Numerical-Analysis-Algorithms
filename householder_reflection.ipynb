{
 "cells": [
  {
   "cell_type": "code",
   "execution_count": 1,
   "metadata": {
    "collapsed": false
   },
   "outputs": [
   ],
   "source": [
    "import numpy as np"
   ]
  },
  {
   "cell_type": "code",
   "execution_count": 2,
   "metadata": {
    "collapsed": false
   },
   "outputs": [
   ],
   "source": [
    "def householder_reflection(vec):\n",
    "    \"\"\"Given a numpy vector of length greater than 1,\n",
    "    returns the Householder reflection of said vector and its correspondent matrix\n",
    "    \"\"\"\n",
    "    \n",
    "    vec = np.asarray(vec, dtype=float)\n",
    "        \n",
    "    #inital setup, x is the intended vector, size is the magnitude |x|, y is currently a zero vector with the same length as x whose first element is changed to |x|\n",
    "    x = vec\n",
    "    size = np.linalg.norm(x)\n",
    "    y = np.zeros(len(x))\n",
    "    y[0] = size\n",
    "    \n",
    "    #the \"sum\" of every element in vector x is calculated, and diff - the difference between the first element of x and the size of x is calculated in the format to avoid catastrophic cancellation\n",
    "    sum = 0;\n",
    "    for i in range(1,len(x)):\n",
    "        sum+=x[i]**2\n",
    "    diff = -1.0*(sum)/(x[0]+size)\n",
    "\n",
    "    \n",
    "    #du is the difference vector between x and y (x-y), norm is the magnitude |du|\n",
    "    du = np.zeros(len(x))\n",
    "    du[0] = diff\n",
    "    for j in range(1,len(x)):\n",
    "        du[j] = 1.0*x[j]\n",
    "    norm = np.linalg.norm(du)\n",
    "    \n",
    "    #u is the difference vector du over its norm and reshaped into a vertical vector\n",
    "    #H is calculated using H = I - 2*(u*u^T)\n",
    "    u = du/norm\n",
    "    u = u.reshape((-1, 1))\n",
    "    H = np.identity(len(x))-2*(u @ np.transpose(u))\n",
    "    \n",
    "    #y is calculated again using H's transformation on x\n",
    "    output = H @ np.transpose(x)\n",
    "    \n",
    "    \n",
    "    \n",
    "    return output, H"
   ]
  },
  {
   "cell_type": "code",
   "execution_count": 5,
   "metadata": {
    "collapsed": false
   },
   "outputs": [
    {
     "name": "stdout",
     "output_type": "stream",
     "text": [
      "[0.17557047 0.25280169 0.21114658 0.82989244 0.242149   0.38109526\n",
      " 0.96456553 0.48283897 0.75634823 0.15217245]\n",
      "[ 1.67052297e+00  6.93889390e-18  2.08166817e-17  2.22044605e-16\n",
      "  2.08166817e-17 -5.55111512e-17 -5.55111512e-17  6.93889390e-17\n",
      " -1.11022302e-16  0.00000000e+00]\n",
      "[[ 0.10509911  0.15133086  0.12639549  0.49678601  0.14495401  0.22812931\n",
      "   0.57740333  0.28903462  0.45276135  0.0910927 ]\n",
      " [ 0.15133086  0.97440942 -0.02137392 -0.08400825 -0.02451223 -0.03857746\n",
      "  -0.09764092 -0.04887676 -0.07656352 -0.01540409]\n",
      " [ 0.12639549 -0.02137392  0.98214794 -0.07016588 -0.02047325 -0.03222091\n",
      "  -0.08155225 -0.04082315 -0.06394786 -0.0128659 ]\n",
      " [ 0.49678601 -0.08400825 -0.07016588  0.72421936 -0.08046826 -0.12664134\n",
      "  -0.3205337  -0.16045168 -0.25134124 -0.05056826]\n",
      " [ 0.14495401 -0.02451223 -0.02047325 -0.08046826  0.97652068 -0.03695187\n",
      "  -0.09352648 -0.04681717 -0.07333725 -0.01475499]\n",
      " [ 0.22812931 -0.03857746 -0.03222091 -0.12664134 -0.03695187  0.94184497\n",
      "  -0.14719242 -0.07368109 -0.11541852 -0.02322147]\n",
      " [ 0.57740333 -0.09764092 -0.08155225 -0.3205337  -0.09352648 -0.14719242\n",
      "   0.6274508  -0.18648942 -0.29212834 -0.05877436]\n",
      " [ 0.28903462 -0.04887676 -0.04082315 -0.16045168 -0.04681717 -0.07368109\n",
      "  -0.18648942  0.90664775 -0.14623262 -0.02942107]\n",
      " [ 0.45276135 -0.07656352 -0.06394786 -0.25134124 -0.07333725 -0.11541852\n",
      "  -0.29212834 -0.14623262  0.77093236 -0.04608695]\n",
      " [ 0.0910927  -0.01540409 -0.0128659  -0.05056826 -0.01475499 -0.02322147\n",
      "  -0.05877436 -0.02942107 -0.04608695  0.9907276 ]]\n"
     ]
    }
   ],
   "source": [
    "input = np.random.rand(10)\n",
    "print(input)\n",
    "output, matrix = householder_reflection(input)\n",
    "\n",
    "print(output)\n",
    "print(matrix)"
   ]
  },
  {
   "cell_type": "code",
   "execution_count": 0,
   "metadata": {
    "collapsed": false
   },
   "outputs": [
   ],
   "source": [
   ]
  }
 ],
 "metadata": {
  "kernelspec": {
   "display_name": "Python 3 (system-wide)",
   "language": "python",
   "metadata": {
    "cocalc": {
     "description": "Python 3 programming language",
     "priority": 100,
     "url": "https://www.python.org/"
    }
   },
   "name": "python3",
   "resource_dir": "/ext/jupyter/kernels/python3"
  },
  "language_info": {
   "codemirror_mode": {
    "name": "ipython",
    "version": 3
   },
   "file_extension": ".py",
   "mimetype": "text/x-python",
   "name": "python",
   "nbconvert_exporter": "python",
   "pygments_lexer": "ipython3",
   "version": "3.8.10"
  }
 },
 "nbformat": 4,
 "nbformat_minor": 4
}